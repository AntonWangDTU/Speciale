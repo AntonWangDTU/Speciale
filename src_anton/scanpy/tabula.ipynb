{
 "cells": [
  {
   "cell_type": "markdown",
   "id": "ac7bd9b3",
   "metadata": {},
   "source": [
    "### Tabula sapiens"
   ]
  },
  {
   "cell_type": "code",
   "execution_count": null,
   "id": "4a7376ba",
   "metadata": {},
   "outputs": [
    {
     "name": "stdout",
     "output_type": "stream",
     "text": [
      "AOC2024\t\t\t\t     README.md\t      branch_n_bound.py\n",
      "Anaconda3-2024.06-1-Linux-x86_64.sh  Untitled.ipynb   cellpose_help.txt\n",
      "CPP_test.ipynb\t\t\t     Untitled1.ipynb  data\n",
      "Downloads\t\t\t     Untitled2.ipynb  human.fsa\n",
      "Fonts\t\t\t\t     Untitled3.ipynb  select-gpt-main.zip\n",
      "OFL.txt\t\t\t\t     Untitled4.ipynb  test\n",
      "OneDrive\t\t\t     alacritty\t      test.py\n",
      "R\t\t\t\t     anaconda3\t      test.txt\n"
     ]
    }
   ],
   "source": [
    "!ls ../../data/4de7ab62-475c-43f9-a1d4-bfd693e7df07/TabulaSapiens.h5ad  "
   ]
  },
  {
   "cell_type": "code",
   "execution_count": 1,
   "id": "a243b594",
   "metadata": {},
   "outputs": [
    {
     "ename": "ModuleNotFoundError",
     "evalue": "No module named 'scanpy'",
     "output_type": "error",
     "traceback": [
      "\u001b[0;31m---------------------------------------------------------------------------\u001b[0m",
      "\u001b[0;31mModuleNotFoundError\u001b[0m                       Traceback (most recent call last)",
      "Cell \u001b[0;32mIn[1], line 1\u001b[0m\n\u001b[0;32m----> 1\u001b[0m \u001b[38;5;28;01mimport\u001b[39;00m \u001b[38;5;21;01mscanpy\u001b[39;00m \u001b[38;5;28;01mas\u001b[39;00m \u001b[38;5;21;01msc\u001b[39;00m\n\u001b[1;32m      2\u001b[0m \u001b[38;5;28;01mimport\u001b[39;00m \u001b[38;5;21;01mpandas\u001b[39;00m \u001b[38;5;28;01mas\u001b[39;00m \u001b[38;5;21;01mpd\u001b[39;00m\n\u001b[1;32m      3\u001b[0m \u001b[38;5;28;01mimport\u001b[39;00m \u001b[38;5;21;01mnumpy\u001b[39;00m \u001b[38;5;28;01mas\u001b[39;00m \u001b[38;5;21;01mnp\u001b[39;00m\n",
      "\u001b[0;31mModuleNotFoundError\u001b[0m: No module named 'scanpy'"
     ]
    }
   ],
   "source": [
    "import scanpy as sc\n",
    "import pandas as pd\n",
    "import numpy as np\n",
    "\n",
    "# Load in backed mode\n",
    "adata = sc.read_h5ad('your_file.h5ad', backed='r')"
   ]
  }
 ],
 "metadata": {
  "kernelspec": {
   "display_name": "base",
   "language": "python",
   "name": "python3"
  },
  "language_info": {
   "codemirror_mode": {
    "name": "ipython",
    "version": 3
   },
   "file_extension": ".py",
   "mimetype": "text/x-python",
   "name": "python",
   "nbconvert_exporter": "python",
   "pygments_lexer": "ipython3",
   "version": "3.12.2"
  }
 },
 "nbformat": 4,
 "nbformat_minor": 5
}
